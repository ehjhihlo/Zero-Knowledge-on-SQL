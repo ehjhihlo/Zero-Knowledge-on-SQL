{
  "nbformat": 4,
  "nbformat_minor": 0,
  "metadata": {
    "colab": {
      "provenance": []
    },
    "kernelspec": {
      "name": "python3",
      "display_name": "Python 3"
    },
    "language_info": {
      "name": "python"
    }
  },
  "cells": [
    {
      "cell_type": "code",
      "execution_count": 1,
      "metadata": {
        "colab": {
          "base_uri": "https://localhost:8080/"
        },
        "id": "JRp2C4vnfuSl",
        "outputId": "f82b398e-34b2-4935-d844-6bd271e5f4d6"
      },
      "outputs": [
        {
          "output_type": "stream",
          "name": "stdout",
          "text": [
            "Looking in indexes: https://pypi.org/simple, https://us-python.pkg.dev/colab-wheels/public/simple/\n",
            "Collecting python-libsnark\n",
            "  Downloading python_libsnark-0.3.3-cp310-cp310-manylinux_2_17_x86_64.manylinux2014_x86_64.whl (3.1 MB)\n",
            "\u001b[2K     \u001b[90m━━━━━━━━━━━━━━━━━━━━━━━━━━━━━━━━━━━━━━━━\u001b[0m \u001b[32m3.1/3.1 MB\u001b[0m \u001b[31m14.4 MB/s\u001b[0m eta \u001b[36m0:00:00\u001b[0m\n",
            "\u001b[?25hInstalling collected packages: python-libsnark\n",
            "Successfully installed python-libsnark-0.3.3\n"
          ]
        }
      ],
      "source": [
        "! pip install python-libsnark"
      ]
    },
    {
      "cell_type": "code",
      "source": [
        "from google.colab import drive\n",
        "drive.mount('/content/drive')"
      ],
      "metadata": {
        "id": "QD121gzE5tHN",
        "outputId": "5c18963f-c0e6-4846-88be-32481bc82a3c",
        "colab": {
          "base_uri": "https://localhost:8080/"
        }
      },
      "execution_count": 2,
      "outputs": [
        {
          "output_type": "stream",
          "name": "stdout",
          "text": [
            "Mounted at /content/drive\n"
          ]
        }
      ]
    },
    {
      "cell_type": "code",
      "source": [
        "import sqlite3\n",
        "conn = sqlite3.connect('NBA.db')\n",
        "cursor = conn.cursor()\n",
        "\n",
        "\"\"\"\n",
        "import os\n",
        "os.remove('NBA.db')\n",
        "\"\"\""
      ],
      "metadata": {
        "id": "Ez2ZeyQtf2ya",
        "colab": {
          "base_uri": "https://localhost:8080/",
          "height": 36
        },
        "outputId": "7fb9bd54-f49f-4156-9db1-6cf8fd4d7fc8"
      },
      "execution_count": 3,
      "outputs": [
        {
          "output_type": "execute_result",
          "data": {
            "text/plain": [
              "\"\\nimport os\\nos.remove('NBA.db')\\n\""
            ],
            "application/vnd.google.colaboratory.intrinsic+json": {
              "type": "string"
            }
          },
          "metadata": {},
          "execution_count": 3
        }
      ]
    },
    {
      "cell_type": "code",
      "source": [
        "cursor.execute(\"CREATE TABLE player(\"\n",
        "                    \"RK INT,\"\n",
        "                    \"Player VARCHAR(40) NOT NULL,\"\n",
        "                    \"Pos VARCHAR(40) NOT NULL,\"\n",
        "                    \"Age INT,\"\n",
        "                    \"Tm VARCHAR(40) NOT NULL,\"\n",
        "                    \"G INT,\"\n",
        "                    \"GS INT,\"\n",
        "                    \"MP FLOAT,\"\n",
        "                    \"FG FLOAT,\"\n",
        "                    \"FGA FLOAT,\"\n",
        "                    \"FG_percent FLOAT,\"\n",
        "                    \"Three_pt FLOAT,\"\n",
        "                    \"Three_PA FLOAT,\"\n",
        "                    \"Three_P_percent FLOAT,\"\n",
        "                    \"Two_P FLOAT,\"\n",
        "                    \"Two_PA FLOAT,\"\n",
        "                    \"Two_percent FLOAT,\"\n",
        "                    \"Effective_FG_percent FLOAT,\"\n",
        "                    \"FT FLOAT,\"\n",
        "                    \"FTA FLOAT,\"\n",
        "                    \"FT_percent FLOAT,\"\n",
        "                    \"ORB FLOAT,\"\n",
        "                    \"DRB FLOAT,\"\n",
        "                    \"TRB FLOAT,\"\n",
        "                    \"AST FLOAT,\"\n",
        "                    \"STL FLOAT,\"\n",
        "                    \"BLK FLOAT,\"\n",
        "                    \"TOV FLOAT,\"\n",
        "                    \"PF FLOAT,\"\n",
        "                    \"PTS FLOAT);\")"
      ],
      "metadata": {
        "colab": {
          "base_uri": "https://localhost:8080/"
        },
        "id": "8QJjwWu6rMW7",
        "outputId": "1bc3e235-9581-464d-ffd9-c49647423ea3"
      },
      "execution_count": 4,
      "outputs": [
        {
          "output_type": "execute_result",
          "data": {
            "text/plain": [
              "<sqlite3.Cursor at 0x7f3c7e3c6940>"
            ]
          },
          "metadata": {},
          "execution_count": 4
        }
      ]
    },
    {
      "cell_type": "code",
      "source": [
        "import csv\n",
        "nba_data_path = \"/content/drive/MyDrive/sql_final_code/NBA.csv\"\n",
        "player = \"INSERT INTO player \"+ \\\n",
        "          \"VALUES (%s, \\\"%s\\\", '%s', %s, '%s', %s, %s, %s, %s, %s, %s, %s, %s, %s, %s, %s, %s, %s\"+ \\\n",
        "          \", %s, %s, %s, %s, %s, %s, %s, %s, %s, %s, %s, %s)\"\n",
        "\n",
        "with open(nba_data_path, newline='') as csvfile:\n",
        "    rows = csv.reader(csvfile)\n",
        "    next(rows, None)\n",
        "    for row in rows:\n",
        "        for i in range(len(row)):\n",
        "            if row[i] == '':\n",
        "                row[i] = '0'\n",
        "        cursor.execute(player%tuple(row))\n"
      ],
      "metadata": {
        "id": "poQK0rA-rPEo"
      },
      "execution_count": 5,
      "outputs": []
    },
    {
      "cell_type": "markdown",
      "source": [
        "# Example 1: Total, average, variance and standard deviation 3pt FG of one team"
      ],
      "metadata": {
        "id": "vK1MvkVxEGEN"
      }
    },
    {
      "cell_type": "code",
      "source": [
        "import sys\n",
        "sys.path.insert(0, \"/content/drive/MyDrive/sql_final_code\")"
      ],
      "metadata": {
        "id": "DFs0K9mUr2ed"
      },
      "execution_count": 6,
      "outputs": []
    },
    {
      "cell_type": "code",
      "source": [
        "cursor.execute('select Player, G, Three_pt from player where Tm=?', ['MIA'])\n",
        "values = cursor.fetchall()\n",
        "for i in values:\n",
        "  print(i)"
      ],
      "metadata": {
        "colab": {
          "base_uri": "https://localhost:8080/"
        },
        "id": "Al7nPp7erpOf",
        "outputId": "92a90dd0-dcfd-43f5-d4ff-1f85cf12de2e"
      },
      "execution_count": 7,
      "outputs": [
        {
          "output_type": "stream",
          "name": "stdout",
          "text": [
            "('Bam Adebayo', 75, 0.0)\n",
            "('Jamaree Bouyea', 4, 0.5)\n",
            "('Jimmy Butler', 64, 0.6)\n",
            "('Jamal Cain', 18, 0.4)\n",
            "('Dewayne Dedmon', 30, 0.4)\n",
            "('Udonis Haslem', 7, 0.4)\n",
            "('Tyler Herro', 67, 3.0)\n",
            "('Haywood Highsmith', 54, 0.7)\n",
            "('Nikola Jovi?', 15, 0.5)\n",
            "('Kevin Love', 21, 1.4)\n",
            "('Kyle Lowry', 55, 1.9)\n",
            "('Caleb Martin', 71, 1.2)\n",
            "('Victor Oladipo', 42, 1.7)\n",
            "('Duncan Robinson', 42, 1.5)\n",
            "('Orlando Robinson', 31, 0.0)\n",
            "('Dru Smith', 5, 0.2)\n",
            "('Max Strus', 80, 2.5)\n",
            "('Gabe Vincent', 68, 1.7)\n",
            "('Omer Yurtseven', 9, 0.3)\n",
            "('Cody Zeller', 15, 0.0)\n"
          ]
        }
      ]
    },
    {
      "cell_type": "code",
      "source": [
        "from total_and_avg_list import sum_zk\n",
        "from var import var_zk\n",
        "from pr import pr_zk\n",
        "\n",
        "def team_average_3p_over_all_season(team):\n",
        "  print(f'{team} players total, average, variance and standard deviation 3pt FG')\n",
        "  cursor.execute('select G, Three_pt from player where Tm=?', [team])\n",
        "  values = cursor.fetchall()\n",
        "  data = [round(i[0] * i[1]) for i in values]\n",
        "  print('-----sum and average-----')\n",
        "  sum_zk(data)\n",
        "  print('-----variance and standard deviation-----')\n",
        "  var_zk(data)\n",
        "  return\n",
        "team = input('Please input the team which you want to look up : ')\n",
        "\n",
        "team_average_3p_over_all_season(team)"
      ],
      "metadata": {
        "colab": {
          "base_uri": "https://localhost:8080/"
        },
        "id": "Fzr7UnkNvnMG",
        "outputId": "42058bd7-fc0a-4e08-c701-2776148044d3"
      },
      "execution_count": 8,
      "outputs": [
        {
          "output_type": "stream",
          "name": "stdout",
          "text": [
            "Please input the team which you want to look up : MIA\n",
            "MIA players total, average, variance and standard deviation 3pt FG\n",
            "-----sum and average-----\n",
            "*** Trying to read key\n",
            "*** No key or computation changed, generating keys...\n",
            "*** Generating proof (sat=True, #io=143, #witness=0, #constraint=119)\n",
            "*** Sum: 981\n",
            "*** Average: 49\n",
            "*** Verification status: True\n",
            "-----variance and standard deviation-----\n",
            "*** Trying to read key\n",
            "*** No key or computation changed, generating keys...\n",
            "*** Generating proof (sat=True, #io=7925, #witness=0, #constraint=7877)\n",
            "*** Var: 3839\n",
            "*** Std: 61\n",
            "*** Verification status: True\n"
          ]
        }
      ]
    },
    {
      "cell_type": "markdown",
      "source": [
        "\n",
        "# Example 2: PR value of PPG in one team"
      ],
      "metadata": {
        "id": "u7KlIUYKbIDz"
      }
    },
    {
      "cell_type": "code",
      "source": [
        "def pr_ppg_over_all_season(team, pr_value):\n",
        "  print(f'PPG of PR {pr_value} player with game played > 50 in {team}')\n",
        "  cursor.execute('select PTS from player where Tm = ? and G>\"50\"', [team])\n",
        "  values = cursor.fetchall()\n",
        "  data = [round(i[0]) for i in values]\n",
        "  pr_zk(int(pr_value), data)\n",
        "  return\n",
        "team = input('Please input the team which you want to look up : ')\n",
        "pr_value = input('Please input the percentage which you want to look up : ')\n",
        "pr_ppg_over_all_season(team, pr_value)"
      ],
      "metadata": {
        "colab": {
          "base_uri": "https://localhost:8080/"
        },
        "id": "QYf8ph46V20_",
        "outputId": "63dd36ea-30ec-425d-c53f-edc59f691335"
      },
      "execution_count": 10,
      "outputs": [
        {
          "output_type": "stream",
          "name": "stdout",
          "text": [
            "Please input the team which you want to look up : GSW\n",
            "Please input the percentage which you want to look up : 60\n",
            "PPG of PR 60 player with game played > 50 in GSW\n",
            "*** Trying to read key\n",
            "*** No key or computation changed, generating keys...\n",
            "*** Generating proof (sat=True, #io=12, #witness=0, #constraint=5)\n",
            "*** pr: 9\n",
            "*** Verification status: True\n"
          ]
        }
      ]
    }
  ]
}